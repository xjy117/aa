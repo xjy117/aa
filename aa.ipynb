{
 "cells": [
  {
   "cell_type": "code",
   "execution_count": 40,
   "metadata": {},
   "outputs": [],
   "source": [
    "import numpy as np\n",
    "from sklearn.preprocessing import StandardScaler\n",
    "from sklearn import neighbors\n",
    "from sklearn.metrics import classification_report\n",
    "from sklearn.neural_network import MLPClassifier \n",
    "from sklearn.preprocessing import LabelEncoder"
   ]
  },
  {
   "cell_type": "code",
   "execution_count": 41,
   "metadata": {},
   "outputs": [],
   "source": [
    "train_data = np.genfromtxt('Churn-Modelling.csv',delimiter=',',dtype=np.str)\n",
    "test_data = np.genfromtxt('Churn-Modelling-Test-Data.csv',delimiter=',',dtype=np.str)"
   ]
  },
  {
   "cell_type": "code",
   "execution_count": 42,
   "metadata": {},
   "outputs": [],
   "source": [
    "x_train = train_data[1:,:-1]\n",
    "y_train = train_data[1:,-1]\n",
    "x_test = test_data[1:,:-1]\n",
    "y_test = test_data[1:,-1]"
   ]
  },
  {
   "cell_type": "code",
   "execution_count": 43,
   "metadata": {},
   "outputs": [],
   "source": [
    "x_train = np.delete(x_train,[0,1,2],axis=1)\n",
    "x_test = np.delete(x_test,[0,1,2],axis=1)"
   ]
  },
  {
   "cell_type": "code",
   "execution_count": 44,
   "metadata": {},
   "outputs": [
    {
     "data": {
      "text/plain": [
       "array([['619', 'France', 'Female', '42', '2', '0', '1', '1', '1',\n",
       "        '101348.88'],\n",
       "       ['608', 'Spain', 'Female', '41', '1', '83807.86', '1', '0', '1',\n",
       "        '112542.58'],\n",
       "       ['502', 'France', 'Female', '42', '8', '159660.8', '3', '1', '0',\n",
       "        '113931.57'],\n",
       "       ['699', 'France', 'Female', '39', '1', '0', '2', '0', '0',\n",
       "        '93826.63'],\n",
       "       ['850', 'Spain', 'Female', '43', '2', '125510.82', '1', '1', '1',\n",
       "        '79084.1']], dtype='<U23')"
      ]
     },
     "execution_count": 44,
     "metadata": {},
     "output_type": "execute_result"
    }
   ],
   "source": [
    "x_train[:5]"
   ]
  },
  {
   "cell_type": "code",
   "execution_count": 45,
   "metadata": {},
   "outputs": [
    {
     "data": {
      "text/plain": [
       "array(['1', '0', '1', '0', '0'], dtype='<U23')"
      ]
     },
     "execution_count": 45,
     "metadata": {},
     "output_type": "execute_result"
    }
   ],
   "source": [
    "y_train[:5]"
   ]
  },
  {
   "cell_type": "code",
   "execution_count": 46,
   "metadata": {},
   "outputs": [],
   "source": [
    "labelencoder1 = LabelEncoder()\n",
    "x_train[:,1] = labelencoder1.fit_transform(x_train[:,1])\n",
    "x_test[:,1] = labelencoder1.transform(x_test[:,1])\n",
    "labelencoder2 = LabelEncoder()\n",
    "x_train[:,2] = labelencoder2.fit_transform(x_train[:,2])\n",
    "x_test[:,2] = labelencoder2.transform(x_test[:,2])"
   ]
  },
  {
   "cell_type": "code",
   "execution_count": 47,
   "metadata": {},
   "outputs": [
    {
     "data": {
      "text/plain": [
       "array([['619', '0', '0', '42', '2', '0', '1', '1', '1', '101348.88'],\n",
       "       ['608', '2', '0', '41', '1', '83807.86', '1', '0', '1',\n",
       "        '112542.58'],\n",
       "       ['502', '0', '0', '42', '8', '159660.8', '3', '1', '0',\n",
       "        '113931.57'],\n",
       "       ['699', '0', '0', '39', '1', '0', '2', '0', '0', '93826.63'],\n",
       "       ['850', '2', '0', '43', '2', '125510.82', '1', '1', '1',\n",
       "        '79084.1']], dtype='<U23')"
      ]
     },
     "execution_count": 47,
     "metadata": {},
     "output_type": "execute_result"
    }
   ],
   "source": [
    "x_train[:5]"
   ]
  },
  {
   "cell_type": "code",
   "execution_count": 48,
   "metadata": {},
   "outputs": [],
   "source": [
    "x_train = x_train.astype(np.float32)\n",
    "x_test = x_test.astype(np.float32)\n",
    "y_train = y_train.astype(np.float32)\n",
    "y_test = y_test.astype(np.float32)"
   ]
  },
  {
   "cell_type": "code",
   "execution_count": 49,
   "metadata": {},
   "outputs": [],
   "source": [
    "sc = StandardScaler()\n",
    "x_train = sc.fit_transform(x_train)\n",
    "x_test = sc.transform(x_test)"
   ]
  },
  {
   "cell_type": "code",
   "execution_count": 50,
   "metadata": {},
   "outputs": [
    {
     "data": {
      "text/plain": [
       "array([[-0.32622144, -0.90188617, -1.0959876 ,  0.29351744, -1.0417596 ,\n",
       "        -1.2258477 , -0.91158354,  0.64609164,  0.9702426 ,  0.02188654],\n",
       "       [-0.440036  ,  1.5150673 , -1.0959876 ,  0.19816384, -1.3875376 ,\n",
       "         0.11735003, -0.91158354, -1.547768  ,  0.9702426 ,  0.21653372],\n",
       "       [-1.5367942 , -0.90188617, -1.0959876 ,  0.29351744,  1.0329077 ,\n",
       "         1.3330532 ,  2.5270567 ,  0.64609164, -1.0306702 ,  0.2406869 ],\n",
       "       [ 0.50152063, -0.90188617, -1.0959876 ,  0.00745665, -1.3875376 ,\n",
       "        -1.2258477 ,  0.8077366 , -1.547768  , -1.0306702 , -0.10891788],\n",
       "       [ 2.063884  ,  1.5150673 , -1.0959876 ,  0.38887098, -1.0417596 ,\n",
       "         0.785728  , -0.91158354,  0.64609164,  0.9702426 , -0.36527577]],\n",
       "      dtype=float32)"
      ]
     },
     "execution_count": 50,
     "metadata": {},
     "output_type": "execute_result"
    }
   ],
   "source": [
    "x_train[:5]"
   ]
  },
  {
   "cell_type": "code",
   "execution_count": 51,
   "metadata": {},
   "outputs": [
    {
     "name": "stdout",
     "output_type": "stream",
     "text": [
      "              precision    recall  f1-score   support\n",
      "\n",
      "         0.0       0.80      0.95      0.87       740\n",
      "         1.0       0.69      0.33      0.45       260\n",
      "\n",
      "   micro avg       0.79      0.79      0.79      1000\n",
      "   macro avg       0.75      0.64      0.66      1000\n",
      "weighted avg       0.77      0.79      0.76      1000\n",
      "\n"
     ]
    }
   ],
   "source": [
    "knn = neighbors.KNeighborsClassifier(n_neighbors=5)\n",
    "knn.fit(x_train, y_train)\n",
    "predictions = knn.predict(x_test)\n",
    "print(classification_report(y_test, predictions))"
   ]
  },
  {
   "cell_type": "code",
   "execution_count": 52,
   "metadata": {},
   "outputs": [
    {
     "name": "stdout",
     "output_type": "stream",
     "text": [
      "              precision    recall  f1-score   support\n",
      "\n",
      "         0.0       0.82      0.96      0.88       740\n",
      "         1.0       0.77      0.38      0.51       260\n",
      "\n",
      "   micro avg       0.81      0.81      0.81      1000\n",
      "   macro avg       0.79      0.67      0.70      1000\n",
      "weighted avg       0.80      0.81      0.79      1000\n",
      "\n"
     ]
    }
   ],
   "source": [
    "mlp = MLPClassifier(hidden_layer_sizes=(20,10) ,max_iter=500)\n",
    "mlp.fit(x_train,y_train)\n",
    "\n",
    "predictions = mlp.predict(x_test)\n",
    "print(classification_report(y_test, predictions))"
   ]
  },
  {
   "cell_type": "code",
   "execution_count": null,
   "metadata": {},
   "outputs": [],
   "source": []
  }
 ],
 "metadata": {
  "anaconda-cloud": {},
  "kernelspec": {
   "display_name": "Python 3",
   "language": "python",
   "name": "python3"
  },
  "language_info": {
   "codemirror_mode": {
    "name": "ipython",
    "version": 3
   },
   "file_extension": ".py",
   "mimetype": "text/x-python",
   "name": "python",
   "nbconvert_exporter": "python",
   "pygments_lexer": "ipython3",
   "version": "3.6.5"
  }
 },
 "nbformat": 4,
 "nbformat_minor": 1
}
